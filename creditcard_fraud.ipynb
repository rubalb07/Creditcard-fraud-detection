{
 "cells": [
  {
   "cell_type": "markdown",
   "metadata": {},
   "source": [
    "# Credit Crad Fraud Detection System On Imbalnced Data"
   ]
  },
  {
   "cell_type": "markdown",
   "metadata": {},
   "source": [
    "##### Our project is about Credit Card Fraud Detection System. In this project, we will be focusing on detecting fraud transaction happening during plastic purchases. We took our data from Kaggle which contains all the transactions in September 2013 by European customers. The main challenge in our data set is, it is highly unbalanced i.e. the frauds only accounts for 0.172% of the transactions. \n",
    "##### This represents the real-world scenario as only a fraction of one percent of all the transactions are fraud.  Therefore, if our model predicts all the transaction as negative (non- fraudulent) it will still have an accuracy of 99%. Which seems like an amazing outcome; however, it does not add any value to the business. Keeping this in mind, we must be careful while checking our results. \n",
    "##### Firstly, we will split our data into training and testing so that we could evaluate our model. Secondly, as we are dealing with unbalanced data, we will be using three methods to overcome this issue .i.e. oversampling, undersampling and combined approach. We will try to find the difference between these three approaches and what method best suits our type of data. Thirdly, we will be using Classification model (Random Forest Classification, Naïve Bayes) and SVC to predict the class of the transaction where 0 stands for a genuine transaction/ non-fraudulent and 1 stand for fraud transaction.  Lastly, we will be evaluating our model using confusion matrix and to get more insights we will check the Classification Report for each approach. We will be comparing all the results and reports and will check which method of balancing best suits our model.  \n"
   ]
  },
  {
   "cell_type": "code",
   "execution_count": 1,
   "metadata": {
    "_cell_guid": "0e7d0f72-a84f-44cb-8a8a-910662b63990",
    "_uuid": "2e4f5f35-5432-4801-97e0-c08beb5b2dbb"
   },
   "outputs": [],
   "source": [
    "#Importing necessary packages for modelling\n",
    "import pandas as pd #importing pandas as pd\n",
    "import numpy as np  #importing numpy as np\n",
    "from sklearn.model_selection import train_test_split #importing train_test_split from sklearn to split the data\n",
    "import matplotlib.pyplot as plt #importing for plots\n",
    "from sklearn.metrics import accuracy_score #imported to check the accuracy\n",
    "from sklearn.model_selection import GridSearchCV #Imported for Hyperparameters\n",
    "from imblearn.over_sampling import SMOTE #Imported for Over Sampling\n",
    "from imblearn.under_sampling import RandomUnderSampler  #Imported for Under Sampling\n",
    "from imblearn.combine import SMOTEENN #Imported for combined sampling\n",
    "from sklearn.ensemble import RandomForestClassifier #Used RandomForestClassifier as our algorithm\n",
    "from sklearn.model_selection import cross_val_score\n",
    "from sklearn.preprocessing import StandardScaler #Imported to scale the features\n",
    "from sklearn.utils import shuffle \n",
    "from sklearn.metrics import confusion_matrix #Imported to checked the confusion matric (Recall and Precision)\n",
    "from sklearn.metrics import classification_report #Imported to compares all the models and methods\n",
    "from sklearn.metrics import plot_confusion_matrix #Imported to plot the confusioon matrix\n",
    "from sklearn.metrics import roc_auc_score #For evaluating \n",
    "from sklearn.naive_bayes import GaussianNB\n",
    "from sklearn.svm import SVC"
   ]
  },
  {
   "cell_type": "code",
   "execution_count": 4,
   "metadata": {
    "_cell_guid": "8dec5cbe-8b55-4f63-9fc6-57bda5ef062b",
    "_uuid": "51b26967-29b4-4913-b73d-8499e9921d6f"
   },
   "outputs": [],
   "source": [
    "#Reading the data from the read_csv\n",
    "df1 = pd.read_csv(\"creditcard.csv\")"
   ]
  },
  {
   "cell_type": "code",
   "execution_count": 5,
   "metadata": {
    "_cell_guid": "b38357d2-4e50-4c71-946f-f5ad1813c53c",
    "_uuid": "03d1d7a3-a62e-447d-94c3-be9725b37301"
   },
   "outputs": [
    {
     "data": {
      "text/plain": [
       "(284807, 31)"
      ]
     },
     "execution_count": 5,
     "metadata": {},
     "output_type": "execute_result"
    }
   ],
   "source": [
    "#checking the Shape of the data\n",
    "df1.shape"
   ]
  },
  {
   "cell_type": "code",
   "execution_count": 6,
   "metadata": {
    "_cell_guid": "1d83ed96-5b5f-45c9-b880-7990511bfd94",
    "_uuid": "9e7bb315-d3ce-4bab-af77-921bb72b4e99"
   },
   "outputs": [
    {
     "data": {
      "text/html": [
       "<div>\n",
       "<style scoped>\n",
       "    .dataframe tbody tr th:only-of-type {\n",
       "        vertical-align: middle;\n",
       "    }\n",
       "\n",
       "    .dataframe tbody tr th {\n",
       "        vertical-align: top;\n",
       "    }\n",
       "\n",
       "    .dataframe thead th {\n",
       "        text-align: right;\n",
       "    }\n",
       "</style>\n",
       "<table border=\"1\" class=\"dataframe\">\n",
       "  <thead>\n",
       "    <tr style=\"text-align: right;\">\n",
       "      <th></th>\n",
       "      <th>Time</th>\n",
       "      <th>V1</th>\n",
       "      <th>V2</th>\n",
       "      <th>V3</th>\n",
       "      <th>V4</th>\n",
       "      <th>V5</th>\n",
       "      <th>V6</th>\n",
       "      <th>V7</th>\n",
       "      <th>V8</th>\n",
       "      <th>V9</th>\n",
       "      <th>...</th>\n",
       "      <th>V21</th>\n",
       "      <th>V22</th>\n",
       "      <th>V23</th>\n",
       "      <th>V24</th>\n",
       "      <th>V25</th>\n",
       "      <th>V26</th>\n",
       "      <th>V27</th>\n",
       "      <th>V28</th>\n",
       "      <th>Amount</th>\n",
       "      <th>Class</th>\n",
       "    </tr>\n",
       "  </thead>\n",
       "  <tbody>\n",
       "    <tr>\n",
       "      <th>0</th>\n",
       "      <td>0.0</td>\n",
       "      <td>-1.359807</td>\n",
       "      <td>-0.072781</td>\n",
       "      <td>2.536347</td>\n",
       "      <td>1.378155</td>\n",
       "      <td>-0.338321</td>\n",
       "      <td>0.462388</td>\n",
       "      <td>0.239599</td>\n",
       "      <td>0.098698</td>\n",
       "      <td>0.363787</td>\n",
       "      <td>...</td>\n",
       "      <td>-0.018307</td>\n",
       "      <td>0.277838</td>\n",
       "      <td>-0.110474</td>\n",
       "      <td>0.066928</td>\n",
       "      <td>0.128539</td>\n",
       "      <td>-0.189115</td>\n",
       "      <td>0.133558</td>\n",
       "      <td>-0.021053</td>\n",
       "      <td>149.62</td>\n",
       "      <td>0</td>\n",
       "    </tr>\n",
       "    <tr>\n",
       "      <th>1</th>\n",
       "      <td>0.0</td>\n",
       "      <td>1.191857</td>\n",
       "      <td>0.266151</td>\n",
       "      <td>0.166480</td>\n",
       "      <td>0.448154</td>\n",
       "      <td>0.060018</td>\n",
       "      <td>-0.082361</td>\n",
       "      <td>-0.078803</td>\n",
       "      <td>0.085102</td>\n",
       "      <td>-0.255425</td>\n",
       "      <td>...</td>\n",
       "      <td>-0.225775</td>\n",
       "      <td>-0.638672</td>\n",
       "      <td>0.101288</td>\n",
       "      <td>-0.339846</td>\n",
       "      <td>0.167170</td>\n",
       "      <td>0.125895</td>\n",
       "      <td>-0.008983</td>\n",
       "      <td>0.014724</td>\n",
       "      <td>2.69</td>\n",
       "      <td>0</td>\n",
       "    </tr>\n",
       "    <tr>\n",
       "      <th>2</th>\n",
       "      <td>1.0</td>\n",
       "      <td>-1.358354</td>\n",
       "      <td>-1.340163</td>\n",
       "      <td>1.773209</td>\n",
       "      <td>0.379780</td>\n",
       "      <td>-0.503198</td>\n",
       "      <td>1.800499</td>\n",
       "      <td>0.791461</td>\n",
       "      <td>0.247676</td>\n",
       "      <td>-1.514654</td>\n",
       "      <td>...</td>\n",
       "      <td>0.247998</td>\n",
       "      <td>0.771679</td>\n",
       "      <td>0.909412</td>\n",
       "      <td>-0.689281</td>\n",
       "      <td>-0.327642</td>\n",
       "      <td>-0.139097</td>\n",
       "      <td>-0.055353</td>\n",
       "      <td>-0.059752</td>\n",
       "      <td>378.66</td>\n",
       "      <td>0</td>\n",
       "    </tr>\n",
       "    <tr>\n",
       "      <th>3</th>\n",
       "      <td>1.0</td>\n",
       "      <td>-0.966272</td>\n",
       "      <td>-0.185226</td>\n",
       "      <td>1.792993</td>\n",
       "      <td>-0.863291</td>\n",
       "      <td>-0.010309</td>\n",
       "      <td>1.247203</td>\n",
       "      <td>0.237609</td>\n",
       "      <td>0.377436</td>\n",
       "      <td>-1.387024</td>\n",
       "      <td>...</td>\n",
       "      <td>-0.108300</td>\n",
       "      <td>0.005274</td>\n",
       "      <td>-0.190321</td>\n",
       "      <td>-1.175575</td>\n",
       "      <td>0.647376</td>\n",
       "      <td>-0.221929</td>\n",
       "      <td>0.062723</td>\n",
       "      <td>0.061458</td>\n",
       "      <td>123.50</td>\n",
       "      <td>0</td>\n",
       "    </tr>\n",
       "    <tr>\n",
       "      <th>4</th>\n",
       "      <td>2.0</td>\n",
       "      <td>-1.158233</td>\n",
       "      <td>0.877737</td>\n",
       "      <td>1.548718</td>\n",
       "      <td>0.403034</td>\n",
       "      <td>-0.407193</td>\n",
       "      <td>0.095921</td>\n",
       "      <td>0.592941</td>\n",
       "      <td>-0.270533</td>\n",
       "      <td>0.817739</td>\n",
       "      <td>...</td>\n",
       "      <td>-0.009431</td>\n",
       "      <td>0.798278</td>\n",
       "      <td>-0.137458</td>\n",
       "      <td>0.141267</td>\n",
       "      <td>-0.206010</td>\n",
       "      <td>0.502292</td>\n",
       "      <td>0.219422</td>\n",
       "      <td>0.215153</td>\n",
       "      <td>69.99</td>\n",
       "      <td>0</td>\n",
       "    </tr>\n",
       "  </tbody>\n",
       "</table>\n",
       "<p>5 rows × 31 columns</p>\n",
       "</div>"
      ],
      "text/plain": [
       "   Time        V1        V2        V3        V4        V5        V6        V7  \\\n",
       "0   0.0 -1.359807 -0.072781  2.536347  1.378155 -0.338321  0.462388  0.239599   \n",
       "1   0.0  1.191857  0.266151  0.166480  0.448154  0.060018 -0.082361 -0.078803   \n",
       "2   1.0 -1.358354 -1.340163  1.773209  0.379780 -0.503198  1.800499  0.791461   \n",
       "3   1.0 -0.966272 -0.185226  1.792993 -0.863291 -0.010309  1.247203  0.237609   \n",
       "4   2.0 -1.158233  0.877737  1.548718  0.403034 -0.407193  0.095921  0.592941   \n",
       "\n",
       "         V8        V9  ...       V21       V22       V23       V24       V25  \\\n",
       "0  0.098698  0.363787  ... -0.018307  0.277838 -0.110474  0.066928  0.128539   \n",
       "1  0.085102 -0.255425  ... -0.225775 -0.638672  0.101288 -0.339846  0.167170   \n",
       "2  0.247676 -1.514654  ...  0.247998  0.771679  0.909412 -0.689281 -0.327642   \n",
       "3  0.377436 -1.387024  ... -0.108300  0.005274 -0.190321 -1.175575  0.647376   \n",
       "4 -0.270533  0.817739  ... -0.009431  0.798278 -0.137458  0.141267 -0.206010   \n",
       "\n",
       "        V26       V27       V28  Amount  Class  \n",
       "0 -0.189115  0.133558 -0.021053  149.62      0  \n",
       "1  0.125895 -0.008983  0.014724    2.69      0  \n",
       "2 -0.139097 -0.055353 -0.059752  378.66      0  \n",
       "3 -0.221929  0.062723  0.061458  123.50      0  \n",
       "4  0.502292  0.219422  0.215153   69.99      0  \n",
       "\n",
       "[5 rows x 31 columns]"
      ]
     },
     "execution_count": 6,
     "metadata": {},
     "output_type": "execute_result"
    }
   ],
   "source": [
    "#Looking at the data\n",
    "df1.head()"
   ]
  },
  {
   "cell_type": "code",
   "execution_count": 7,
   "metadata": {
    "_cell_guid": "acd76a54-3704-4168-ab1b-58ca4769b160",
    "_uuid": "7a9180fd-1c3c-495a-9692-8a7b10703dc3"
   },
   "outputs": [
    {
     "data": {
      "text/html": [
       "<div>\n",
       "<style scoped>\n",
       "    .dataframe tbody tr th:only-of-type {\n",
       "        vertical-align: middle;\n",
       "    }\n",
       "\n",
       "    .dataframe tbody tr th {\n",
       "        vertical-align: top;\n",
       "    }\n",
       "\n",
       "    .dataframe thead th {\n",
       "        text-align: right;\n",
       "    }\n",
       "</style>\n",
       "<table border=\"1\" class=\"dataframe\">\n",
       "  <thead>\n",
       "    <tr style=\"text-align: right;\">\n",
       "      <th></th>\n",
       "      <th>Time</th>\n",
       "      <th>V1</th>\n",
       "      <th>V2</th>\n",
       "      <th>V3</th>\n",
       "      <th>V4</th>\n",
       "      <th>V5</th>\n",
       "      <th>V6</th>\n",
       "      <th>V7</th>\n",
       "      <th>V8</th>\n",
       "      <th>V9</th>\n",
       "      <th>...</th>\n",
       "      <th>V21</th>\n",
       "      <th>V22</th>\n",
       "      <th>V23</th>\n",
       "      <th>V24</th>\n",
       "      <th>V25</th>\n",
       "      <th>V26</th>\n",
       "      <th>V27</th>\n",
       "      <th>V28</th>\n",
       "      <th>Amount</th>\n",
       "      <th>Class</th>\n",
       "    </tr>\n",
       "  </thead>\n",
       "  <tbody>\n",
       "    <tr>\n",
       "      <th>count</th>\n",
       "      <td>284807.000000</td>\n",
       "      <td>2.848070e+05</td>\n",
       "      <td>2.848070e+05</td>\n",
       "      <td>2.848070e+05</td>\n",
       "      <td>2.848070e+05</td>\n",
       "      <td>2.848070e+05</td>\n",
       "      <td>2.848070e+05</td>\n",
       "      <td>2.848070e+05</td>\n",
       "      <td>2.848070e+05</td>\n",
       "      <td>2.848070e+05</td>\n",
       "      <td>...</td>\n",
       "      <td>2.848070e+05</td>\n",
       "      <td>2.848070e+05</td>\n",
       "      <td>2.848070e+05</td>\n",
       "      <td>2.848070e+05</td>\n",
       "      <td>2.848070e+05</td>\n",
       "      <td>2.848070e+05</td>\n",
       "      <td>2.848070e+05</td>\n",
       "      <td>2.848070e+05</td>\n",
       "      <td>284807.000000</td>\n",
       "      <td>284807.000000</td>\n",
       "    </tr>\n",
       "    <tr>\n",
       "      <th>mean</th>\n",
       "      <td>94813.859575</td>\n",
       "      <td>3.919560e-15</td>\n",
       "      <td>5.688174e-16</td>\n",
       "      <td>-8.769071e-15</td>\n",
       "      <td>2.782312e-15</td>\n",
       "      <td>-1.552563e-15</td>\n",
       "      <td>2.010663e-15</td>\n",
       "      <td>-1.694249e-15</td>\n",
       "      <td>-1.927028e-16</td>\n",
       "      <td>-3.137024e-15</td>\n",
       "      <td>...</td>\n",
       "      <td>1.537294e-16</td>\n",
       "      <td>7.959909e-16</td>\n",
       "      <td>5.367590e-16</td>\n",
       "      <td>4.458112e-15</td>\n",
       "      <td>1.453003e-15</td>\n",
       "      <td>1.699104e-15</td>\n",
       "      <td>-3.660161e-16</td>\n",
       "      <td>-1.206049e-16</td>\n",
       "      <td>88.349619</td>\n",
       "      <td>0.001727</td>\n",
       "    </tr>\n",
       "    <tr>\n",
       "      <th>std</th>\n",
       "      <td>47488.145955</td>\n",
       "      <td>1.958696e+00</td>\n",
       "      <td>1.651309e+00</td>\n",
       "      <td>1.516255e+00</td>\n",
       "      <td>1.415869e+00</td>\n",
       "      <td>1.380247e+00</td>\n",
       "      <td>1.332271e+00</td>\n",
       "      <td>1.237094e+00</td>\n",
       "      <td>1.194353e+00</td>\n",
       "      <td>1.098632e+00</td>\n",
       "      <td>...</td>\n",
       "      <td>7.345240e-01</td>\n",
       "      <td>7.257016e-01</td>\n",
       "      <td>6.244603e-01</td>\n",
       "      <td>6.056471e-01</td>\n",
       "      <td>5.212781e-01</td>\n",
       "      <td>4.822270e-01</td>\n",
       "      <td>4.036325e-01</td>\n",
       "      <td>3.300833e-01</td>\n",
       "      <td>250.120109</td>\n",
       "      <td>0.041527</td>\n",
       "    </tr>\n",
       "    <tr>\n",
       "      <th>min</th>\n",
       "      <td>0.000000</td>\n",
       "      <td>-5.640751e+01</td>\n",
       "      <td>-7.271573e+01</td>\n",
       "      <td>-4.832559e+01</td>\n",
       "      <td>-5.683171e+00</td>\n",
       "      <td>-1.137433e+02</td>\n",
       "      <td>-2.616051e+01</td>\n",
       "      <td>-4.355724e+01</td>\n",
       "      <td>-7.321672e+01</td>\n",
       "      <td>-1.343407e+01</td>\n",
       "      <td>...</td>\n",
       "      <td>-3.483038e+01</td>\n",
       "      <td>-1.093314e+01</td>\n",
       "      <td>-4.480774e+01</td>\n",
       "      <td>-2.836627e+00</td>\n",
       "      <td>-1.029540e+01</td>\n",
       "      <td>-2.604551e+00</td>\n",
       "      <td>-2.256568e+01</td>\n",
       "      <td>-1.543008e+01</td>\n",
       "      <td>0.000000</td>\n",
       "      <td>0.000000</td>\n",
       "    </tr>\n",
       "    <tr>\n",
       "      <th>25%</th>\n",
       "      <td>54201.500000</td>\n",
       "      <td>-9.203734e-01</td>\n",
       "      <td>-5.985499e-01</td>\n",
       "      <td>-8.903648e-01</td>\n",
       "      <td>-8.486401e-01</td>\n",
       "      <td>-6.915971e-01</td>\n",
       "      <td>-7.682956e-01</td>\n",
       "      <td>-5.540759e-01</td>\n",
       "      <td>-2.086297e-01</td>\n",
       "      <td>-6.430976e-01</td>\n",
       "      <td>...</td>\n",
       "      <td>-2.283949e-01</td>\n",
       "      <td>-5.423504e-01</td>\n",
       "      <td>-1.618463e-01</td>\n",
       "      <td>-3.545861e-01</td>\n",
       "      <td>-3.171451e-01</td>\n",
       "      <td>-3.269839e-01</td>\n",
       "      <td>-7.083953e-02</td>\n",
       "      <td>-5.295979e-02</td>\n",
       "      <td>5.600000</td>\n",
       "      <td>0.000000</td>\n",
       "    </tr>\n",
       "    <tr>\n",
       "      <th>50%</th>\n",
       "      <td>84692.000000</td>\n",
       "      <td>1.810880e-02</td>\n",
       "      <td>6.548556e-02</td>\n",
       "      <td>1.798463e-01</td>\n",
       "      <td>-1.984653e-02</td>\n",
       "      <td>-5.433583e-02</td>\n",
       "      <td>-2.741871e-01</td>\n",
       "      <td>4.010308e-02</td>\n",
       "      <td>2.235804e-02</td>\n",
       "      <td>-5.142873e-02</td>\n",
       "      <td>...</td>\n",
       "      <td>-2.945017e-02</td>\n",
       "      <td>6.781943e-03</td>\n",
       "      <td>-1.119293e-02</td>\n",
       "      <td>4.097606e-02</td>\n",
       "      <td>1.659350e-02</td>\n",
       "      <td>-5.213911e-02</td>\n",
       "      <td>1.342146e-03</td>\n",
       "      <td>1.124383e-02</td>\n",
       "      <td>22.000000</td>\n",
       "      <td>0.000000</td>\n",
       "    </tr>\n",
       "    <tr>\n",
       "      <th>75%</th>\n",
       "      <td>139320.500000</td>\n",
       "      <td>1.315642e+00</td>\n",
       "      <td>8.037239e-01</td>\n",
       "      <td>1.027196e+00</td>\n",
       "      <td>7.433413e-01</td>\n",
       "      <td>6.119264e-01</td>\n",
       "      <td>3.985649e-01</td>\n",
       "      <td>5.704361e-01</td>\n",
       "      <td>3.273459e-01</td>\n",
       "      <td>5.971390e-01</td>\n",
       "      <td>...</td>\n",
       "      <td>1.863772e-01</td>\n",
       "      <td>5.285536e-01</td>\n",
       "      <td>1.476421e-01</td>\n",
       "      <td>4.395266e-01</td>\n",
       "      <td>3.507156e-01</td>\n",
       "      <td>2.409522e-01</td>\n",
       "      <td>9.104512e-02</td>\n",
       "      <td>7.827995e-02</td>\n",
       "      <td>77.165000</td>\n",
       "      <td>0.000000</td>\n",
       "    </tr>\n",
       "    <tr>\n",
       "      <th>max</th>\n",
       "      <td>172792.000000</td>\n",
       "      <td>2.454930e+00</td>\n",
       "      <td>2.205773e+01</td>\n",
       "      <td>9.382558e+00</td>\n",
       "      <td>1.687534e+01</td>\n",
       "      <td>3.480167e+01</td>\n",
       "      <td>7.330163e+01</td>\n",
       "      <td>1.205895e+02</td>\n",
       "      <td>2.000721e+01</td>\n",
       "      <td>1.559499e+01</td>\n",
       "      <td>...</td>\n",
       "      <td>2.720284e+01</td>\n",
       "      <td>1.050309e+01</td>\n",
       "      <td>2.252841e+01</td>\n",
       "      <td>4.584549e+00</td>\n",
       "      <td>7.519589e+00</td>\n",
       "      <td>3.517346e+00</td>\n",
       "      <td>3.161220e+01</td>\n",
       "      <td>3.384781e+01</td>\n",
       "      <td>25691.160000</td>\n",
       "      <td>1.000000</td>\n",
       "    </tr>\n",
       "  </tbody>\n",
       "</table>\n",
       "<p>8 rows × 31 columns</p>\n",
       "</div>"
      ],
      "text/plain": [
       "                Time            V1            V2            V3            V4  \\\n",
       "count  284807.000000  2.848070e+05  2.848070e+05  2.848070e+05  2.848070e+05   \n",
       "mean    94813.859575  3.919560e-15  5.688174e-16 -8.769071e-15  2.782312e-15   \n",
       "std     47488.145955  1.958696e+00  1.651309e+00  1.516255e+00  1.415869e+00   \n",
       "min         0.000000 -5.640751e+01 -7.271573e+01 -4.832559e+01 -5.683171e+00   \n",
       "25%     54201.500000 -9.203734e-01 -5.985499e-01 -8.903648e-01 -8.486401e-01   \n",
       "50%     84692.000000  1.810880e-02  6.548556e-02  1.798463e-01 -1.984653e-02   \n",
       "75%    139320.500000  1.315642e+00  8.037239e-01  1.027196e+00  7.433413e-01   \n",
       "max    172792.000000  2.454930e+00  2.205773e+01  9.382558e+00  1.687534e+01   \n",
       "\n",
       "                 V5            V6            V7            V8            V9  \\\n",
       "count  2.848070e+05  2.848070e+05  2.848070e+05  2.848070e+05  2.848070e+05   \n",
       "mean  -1.552563e-15  2.010663e-15 -1.694249e-15 -1.927028e-16 -3.137024e-15   \n",
       "std    1.380247e+00  1.332271e+00  1.237094e+00  1.194353e+00  1.098632e+00   \n",
       "min   -1.137433e+02 -2.616051e+01 -4.355724e+01 -7.321672e+01 -1.343407e+01   \n",
       "25%   -6.915971e-01 -7.682956e-01 -5.540759e-01 -2.086297e-01 -6.430976e-01   \n",
       "50%   -5.433583e-02 -2.741871e-01  4.010308e-02  2.235804e-02 -5.142873e-02   \n",
       "75%    6.119264e-01  3.985649e-01  5.704361e-01  3.273459e-01  5.971390e-01   \n",
       "max    3.480167e+01  7.330163e+01  1.205895e+02  2.000721e+01  1.559499e+01   \n",
       "\n",
       "       ...           V21           V22           V23           V24  \\\n",
       "count  ...  2.848070e+05  2.848070e+05  2.848070e+05  2.848070e+05   \n",
       "mean   ...  1.537294e-16  7.959909e-16  5.367590e-16  4.458112e-15   \n",
       "std    ...  7.345240e-01  7.257016e-01  6.244603e-01  6.056471e-01   \n",
       "min    ... -3.483038e+01 -1.093314e+01 -4.480774e+01 -2.836627e+00   \n",
       "25%    ... -2.283949e-01 -5.423504e-01 -1.618463e-01 -3.545861e-01   \n",
       "50%    ... -2.945017e-02  6.781943e-03 -1.119293e-02  4.097606e-02   \n",
       "75%    ...  1.863772e-01  5.285536e-01  1.476421e-01  4.395266e-01   \n",
       "max    ...  2.720284e+01  1.050309e+01  2.252841e+01  4.584549e+00   \n",
       "\n",
       "                V25           V26           V27           V28         Amount  \\\n",
       "count  2.848070e+05  2.848070e+05  2.848070e+05  2.848070e+05  284807.000000   \n",
       "mean   1.453003e-15  1.699104e-15 -3.660161e-16 -1.206049e-16      88.349619   \n",
       "std    5.212781e-01  4.822270e-01  4.036325e-01  3.300833e-01     250.120109   \n",
       "min   -1.029540e+01 -2.604551e+00 -2.256568e+01 -1.543008e+01       0.000000   \n",
       "25%   -3.171451e-01 -3.269839e-01 -7.083953e-02 -5.295979e-02       5.600000   \n",
       "50%    1.659350e-02 -5.213911e-02  1.342146e-03  1.124383e-02      22.000000   \n",
       "75%    3.507156e-01  2.409522e-01  9.104512e-02  7.827995e-02      77.165000   \n",
       "max    7.519589e+00  3.517346e+00  3.161220e+01  3.384781e+01   25691.160000   \n",
       "\n",
       "               Class  \n",
       "count  284807.000000  \n",
       "mean        0.001727  \n",
       "std         0.041527  \n",
       "min         0.000000  \n",
       "25%         0.000000  \n",
       "50%         0.000000  \n",
       "75%         0.000000  \n",
       "max         1.000000  \n",
       "\n",
       "[8 rows x 31 columns]"
      ]
     },
     "execution_count": 7,
     "metadata": {},
     "output_type": "execute_result"
    }
   ],
   "source": [
    "#Summarizing the data any checking if the data is scaled\n",
    "df1.describe()"
   ]
  },
  {
   "cell_type": "code",
   "execution_count": 8,
   "metadata": {
    "_cell_guid": "0b1c4574-772e-4088-81c9-8b87e40c3e04",
    "_uuid": "6f28ae4a-f8c8-404f-9bf1-e206f520753f"
   },
   "outputs": [
    {
     "data": {
      "text/plain": [
       "0    284315\n",
       "1       492\n",
       "Name: Class, dtype: int64"
      ]
     },
     "execution_count": 8,
     "metadata": {},
     "output_type": "execute_result"
    }
   ],
   "source": [
    "#Checking the class (target) balance\n",
    "df1.Class.value_counts()"
   ]
  },
  {
   "cell_type": "code",
   "execution_count": 9,
   "metadata": {
    "_cell_guid": "fed07ad7-fa2c-4e54-bced-cd57408ae653",
    "_uuid": "30a05365-f703-4d1f-b726-de191caf5ebf"
   },
   "outputs": [
    {
     "data": {
      "image/png": "[encoded data removed]",
      "text/plain": [
       "<Figure size 432x288 with 1 Axes>"
      ]
     },
     "metadata": {
      "needs_background": "light"
     },
     "output_type": "display_data"
    }
   ],
   "source": [
    "#Plotting a graph to see the difference visually\n",
    "df1['Class'].value_counts().plot(kind='bar')\n",
    "plt.ylabel('Count');\n",
    "plt.xlabel('Classes');\n",
    "plt.title('IMBLANCED DATASET')\n",
    "plt.show()"
   ]
  },
  {
   "cell_type": "markdown",
   "metadata": {
    "_cell_guid": "00597f9a-32f5-4bb8-8401-f8fbd9b0259d",
    "_uuid": "5ab969a3-a34b-454a-bb90-f87da7621be1"
   },
   "source": [
    "##### Looking at the std we can see the Time and Amount are not scaled. All the other columns are scaled, therefore, this will create a problem as most of the models use Eucledian distance. Considering this Time and Amount should be scaled."
   ]
  },
  {
   "cell_type": "code",
   "execution_count": 10,
   "metadata": {
    "_cell_guid": "37a13ad9-80bf-4a32-b2a6-cf366e5ef631",
    "_uuid": "6db95c7a-17c7-48e5-b10e-8bd85afd0689"
   },
   "outputs": [],
   "source": [
    "#Intializing the Standard Scaler and stroring it in the variable\n",
    "scale = StandardScaler()\n",
    "\n",
    "#Assigning Scaled Values to a variable\n",
    "df1['scaledAmount'] = scale.fit_transform(df1['Time'].values.reshape(-1,1))\n",
    "df1['scaledTime'] = scale.fit_transform(df1['Amount'].values.reshape(-1,1))\n",
    "\n",
    "#Dropping the old variables\n",
    "df1.drop(['Time','Amount'], axis=1, inplace= True)"
   ]
  },
  {
   "cell_type": "markdown",
   "metadata": {
    "_cell_guid": "b20b79b6-41b9-4dd0-97c4-a733b7706b63",
    "_uuid": "48a6f573-90ac-4cb0-85c2-5302e224555c"
   },
   "source": [
    "#### Standard Scaling subtracts the mean from all the rows and then divide all the values with standard deviation. This make mean = 0 and standard deviation = 1. In another words, it standardize the data and arrange it in standard normal distribution."
   ]
  },
  {
   "cell_type": "code",
   "execution_count": 11,
   "metadata": {
    "_cell_guid": "d35acd17-22ea-4698-837a-19b68ade9bb3",
    "_uuid": "f6d8d576-82c3-4e2c-91ce-bc9df4ed656b"
   },
   "outputs": [
    {
     "data": {
      "text/html": [
       "<div>\n",
       "<style scoped>\n",
       "    .dataframe tbody tr th:only-of-type {\n",
       "        vertical-align: middle;\n",
       "    }\n",
       "\n",
       "    .dataframe tbody tr th {\n",
       "        vertical-align: top;\n",
       "    }\n",
       "\n",
       "    .dataframe thead th {\n",
       "        text-align: right;\n",
       "    }\n",
       "</style>\n",
       "<table border=\"1\" class=\"dataframe\">\n",
       "  <thead>\n",
       "    <tr style=\"text-align: right;\">\n",
       "      <th></th>\n",
       "      <th>scaledAmount</th>\n",
       "      <th>scaledTime</th>\n",
       "    </tr>\n",
       "  </thead>\n",
       "  <tbody>\n",
       "    <tr>\n",
       "      <th>0</th>\n",
       "      <td>-1.996583</td>\n",
       "      <td>0.244964</td>\n",
       "    </tr>\n",
       "    <tr>\n",
       "      <th>1</th>\n",
       "      <td>-1.996583</td>\n",
       "      <td>-0.342475</td>\n",
       "    </tr>\n",
       "    <tr>\n",
       "      <th>2</th>\n",
       "      <td>-1.996562</td>\n",
       "      <td>1.160686</td>\n",
       "    </tr>\n",
       "    <tr>\n",
       "      <th>3</th>\n",
       "      <td>-1.996562</td>\n",
       "      <td>0.140534</td>\n",
       "    </tr>\n",
       "    <tr>\n",
       "      <th>4</th>\n",
       "      <td>-1.996541</td>\n",
       "      <td>-0.073403</td>\n",
       "    </tr>\n",
       "    <tr>\n",
       "      <th>...</th>\n",
       "      <td>...</td>\n",
       "      <td>...</td>\n",
       "    </tr>\n",
       "    <tr>\n",
       "      <th>284802</th>\n",
       "      <td>1.641931</td>\n",
       "      <td>-0.350151</td>\n",
       "    </tr>\n",
       "    <tr>\n",
       "      <th>284803</th>\n",
       "      <td>1.641952</td>\n",
       "      <td>-0.254117</td>\n",
       "    </tr>\n",
       "    <tr>\n",
       "      <th>284804</th>\n",
       "      <td>1.641974</td>\n",
       "      <td>-0.081839</td>\n",
       "    </tr>\n",
       "    <tr>\n",
       "      <th>284805</th>\n",
       "      <td>1.641974</td>\n",
       "      <td>-0.313249</td>\n",
       "    </tr>\n",
       "    <tr>\n",
       "      <th>284806</th>\n",
       "      <td>1.642058</td>\n",
       "      <td>0.514355</td>\n",
       "    </tr>\n",
       "  </tbody>\n",
       "</table>\n",
       "<p>284807 rows × 2 columns</p>\n",
       "</div>"
      ],
      "text/plain": [
       "        scaledAmount  scaledTime\n",
       "0          -1.996583    0.244964\n",
       "1          -1.996583   -0.342475\n",
       "2          -1.996562    1.160686\n",
       "3          -1.996562    0.140534\n",
       "4          -1.996541   -0.073403\n",
       "...              ...         ...\n",
       "284802      1.641931   -0.350151\n",
       "284803      1.641952   -0.254117\n",
       "284804      1.641974   -0.081839\n",
       "284805      1.641974   -0.313249\n",
       "284806      1.642058    0.514355\n",
       "\n",
       "[284807 rows x 2 columns]"
      ]
     },
     "execution_count": 11,
     "metadata": {},
     "output_type": "execute_result"
    }
   ],
   "source": [
    "#Checking the scaled variables\n",
    "df1.loc[:,('scaledAmount', 'scaledTime')]"
   ]
  },
  {
   "cell_type": "markdown",
   "metadata": {
    "_cell_guid": "d5cb2f54-96be-4694-b7f3-e41a6f6da8ff",
    "_uuid": "8fc63eb4-de09-4c26-966d-1d9d5b87f149"
   },
   "source": [
    "##### Splitting into Train and Test sets"
   ]
  },
  {
   "cell_type": "markdown",
   "metadata": {
    "_cell_guid": "a6ac232e-a350-4305-9efc-b73a3232b966",
    "_uuid": "70c9a481-9afd-4307-ae0b-406eabf60fd2"
   },
   "source": [
    "Splitting the data before dealing with the imbalance. This is a good practice as we will be making a balance on train data and then testing it on the original test set. This will make sure that we are checking our model according to the real world data."
   ]
  },
  {
   "cell_type": "markdown",
   "metadata": {},
   "source": [
    "### Creating a Class for doing above mentioned steps and fitting different models"
   ]
  },
  {
   "cell_type": "code",
   "execution_count": 12,
   "metadata": {
    "_cell_guid": "e1162065-ec1d-4d5b-ae9a-345a29291c07",
    "_uuid": "0f05a364-aaba-4c3d-9c7a-9d4ecd91c851"
   },
   "outputs": [],
   "source": [
    "#Creating a Class\n",
    "class Model:\n",
    "    #Making a constructor\n",
    "    def __init__(self, datafile):\n",
    "        self.df1 = pd.read_csv(datafile)\n",
    "        self.df1 = self.df1.sample(50000)\n",
    "        self.gnb = GaussianNB()\n",
    "        self.random_forest = RandomForestClassifier()\n",
    "        self.svc = SVC()\n",
    "        \n",
    "    #Creating a function to split the data\n",
    "    def split(self, test_size):\n",
    "        #If test size is none, it will take the deafult size\n",
    "        if test_size == None:\n",
    "            test_size = 0.25\n",
    "        self.X = self.df1.drop('Class', axis =1)\n",
    "        self.y = self.df1['Class']\n",
    "        #Splitting the data into training and testing\n",
    "        self.X_train, self.X_test, self.y_train, self.y_test = train_test_split(self.X, self.y, test_size = test_size, random_state = 29)\n",
    "    \n",
    "    #Creating a fucntion to balance the data with 3 different techniques\n",
    "    def balancing(self, b_type): \n",
    "        #For SMOTE\n",
    "        if b_type == 'SMOTE':\n",
    "            self.sm = SMOTE(random_state=29)\n",
    "            self.X_train_balanced, self.y_train_balanced = self.sm.fit_sample(self.X_train, self.y_train)\n",
    "\n",
    "        #For Random Under Sampler\n",
    "        elif b_type == 'UnderSample':\n",
    "            #Using RandomUnderSampler for Under Sampling\n",
    "            self.rs = RandomUnderSampler(random_state=292)\n",
    "            #Assigning the re-sample data intp different variables\n",
    "            self.X_train_balanced, self.y_train_balanced = self.rs.fit_sample(self.X_train,self.y_train)\n",
    "\n",
    "        #For SMOTEENN\n",
    "        elif b_type == 'Combined':\n",
    "            self.smn = SMOTEENN(random_state=292)\n",
    "            self.X_train_balanced, self.y_train_balanced = self.smn.fit_sample(self.X_train,self.y_train)\n",
    "        \n",
    "    #Fitting 3 different models\n",
    "    def fit(self, m_type):\n",
    "        #Making a Parameter Grid to use in GridSearchCV - Hyperparameter\n",
    "        maxDepth = [x for x in range(10,20,10) ]\n",
    "        maxDepth.append(None)\n",
    "        minSamplesSplit = [2,3]\n",
    "        minSamplesLeaf = [1, 2]\n",
    "        self.params = { 'max_depth': maxDepth,\n",
    "               'min_samples_split': minSamplesSplit,\n",
    "               'min_samples_leaf': minSamplesLeaf,\n",
    "               }\n",
    "        self.svc_param = {'kernel': ['rbf'], \n",
    "                             'gamma': [1e-3, 1e-4],\n",
    "                             'C': [1, 10, 100, 1000]}\n",
    "\n",
    "        if m_type == 'RF':\n",
    "            self.RF_random = GridSearchCV(self.random_forest, self.params, cv = 10, n_jobs = -1)\n",
    "            # Fitting the model\n",
    "            self.RF_random.fit(self.X_train_balanced, self.y_train_balanced)\n",
    "\n",
    "        elif m_type == 'GNB':\n",
    "            self.gnb.fit(self.X_train_balanced, self.y_train_balanced)\n",
    "\n",
    "        elif m_type == 'SVC':\n",
    "            self.svc_model = GridSearchCV(self.svc, self.svc_param, cv = 10, n_jobs = -1)\n",
    "            self.svc_model.fit(self.X_train_balanced, self.y_train_balanced)\n",
    "            "
   ]
  },
  {
   "cell_type": "markdown",
   "metadata": {
    "_cell_guid": "9808bf8e-ce73-4466-ab72-816fd7ed444e",
    "_uuid": "22be3ef0-f595-4243-a07d-235cb26d2a91"
   },
   "source": [
    "##### Dealing With Imblanced Data with Different Methods"
   ]
  },
  {
   "cell_type": "markdown",
   "metadata": {
    "_cell_guid": "48ab14d9-3b02-4ed2-896a-6ed4ad671c2e",
    "_uuid": "d5c23f7c-e40f-4038-9b20-6609b925677c"
   },
   "source": [
    "## Random Forest"
   ]
  },
  {
   "cell_type": "code",
   "execution_count": 14,
   "metadata": {
    "_cell_guid": "e166bb96-f21e-489e-a85b-a7eba4b67e78",
    "_uuid": "d3f46953-cad5-4d3a-bcdc-bf7aa2056f1d"
   },
   "outputs": [],
   "source": [
    "#Assigning the Model Class to a variable for Random Forest - SMOTE\n",
    "rf_smote = Model(\"creditcard.csv\")\n",
    "#Assigning the Model Class to a variable for Random Forest - RandomUnderSampler\n",
    "rf_rus = Model('creditcard.csv')\n",
    "#Assigning the Model Class to a variable for Random Forest - Combined\n",
    "rf_combined = Model('creditcard.csv')\n",
    "\n"
   ]
  },
  {
   "cell_type": "code",
   "execution_count": 16,
   "metadata": {},
   "outputs": [],
   "source": [
    "#Assigning the Model Class to a variable for Naive Bayes - SMOTE\n",
    "gnb_smote = Model(\"creditcard.csv\")\n",
    "#Assigning the Model Class to a variable for Naive Bayes - RandomUnderSampler\n",
    "gnb_rus = Model('creditcard.csv')\n",
    "#Assigning the Model Class to a variable for Naive Bayes - Combined\n",
    "gnb_combined = Model('creditcard.csv')\n"
   ]
  },
  {
   "cell_type": "code",
   "execution_count": 17,
   "metadata": {},
   "outputs": [],
   "source": [
    "#Assigning the Model Class to a variable for Linear SVC - SMOTE\n",
    "svc_smote = Model(\"creditcard.csv\")\n",
    "#Assigning the Model Class to a variable for Linear SVC - RandomUnderSampler\n",
    "svc_rus = Model('creditcard.csv')\n",
    "#Assigning the Model Class to a variable for Linear SVC - Combined\n",
    "svc_combined = Model('creditcard.csv')"
   ]
  },
  {
   "cell_type": "markdown",
   "metadata": {
    "_cell_guid": "9d528159-d427-4707-a867-7354101c277a",
    "_uuid": "412fd902-40cb-47ca-ae5c-865ca51478f7"
   },
   "source": [
    "### - SMOTE"
   ]
  },
  {
   "cell_type": "code",
   "execution_count": 18,
   "metadata": {
    "_cell_guid": "e8034bcc-38ff-49bb-bccb-4f0673a111f1",
    "_uuid": "69f8d6c9-0e41-483a-a1d2-3db7cc21255a"
   },
   "outputs": [
    {
     "name": "stdout",
     "output_type": "stream",
     "text": [
      "1    37439\n",
      "0    37439\n",
      "Name: Class, dtype: int64\n"
     ]
    },
    {
     "data": {
      "image/png": "[encoded data removed]",
      "text/plain": [
       "<Figure size 432x288 with 1 Axes>"
      ]
     },
     "metadata": {
      "needs_background": "light"
     },
     "output_type": "display_data"
    }
   ],
   "source": [
    "#Splitting the data\n",
    "rf_smote.split(None)\n",
    "\n",
    "#Balancing the Data USING SMOTE\n",
    "rf_smote.balancing('SMOTE')\n",
    "\n",
    "#Checking the target class \n",
    "print(rf_smote.y_train_balanced.value_counts())\n",
    "\n",
    "#Plotting the classes to check if they are balanced\n",
    "rf_smote.y_train_balanced.value_counts().plot(kind = 'bar')\n",
    "plt.ylabel('Count');\n",
    "plt.xlabel('Classes');\n",
    "plt.title('CLASSES AFTER USING SMOTE')\n",
    "plt.show()\n",
    "\n",
    "#Fitting the model on Random Forest\n",
    "rf_smote.fit('RF')"
   ]
  },
  {
   "cell_type": "code",
   "execution_count": 19,
   "metadata": {
    "_cell_guid": "1916f7c4-af3a-4a01-9d34-97e2e7eacf29",
    "_uuid": "06973b7b-9298-4846-8cd5-1cad5827e35a"
   },
   "outputs": [
    {
     "name": "stdout",
     "output_type": "stream",
     "text": [
      "Test score is 0.99936\n",
      "Best parameters:{'max_depth': None, 'min_samples_leaf': 1, 'min_samples_split': 2}\n",
      "Best grid search score:0.9998931588257254\n",
      "Best estimator:RandomForestClassifier()\n"
     ]
    }
   ],
   "source": [
    "#Printing the test scores\n",
    "print(\"Test score is \"+str(rf_smote.RF_random.score(rf_smote.X_test,rf_smote.y_test)))\n",
    "#Printing best parameters\n",
    "print(\"Best parameters:\"+str(rf_smote.RF_random.best_params_))\n",
    "#Printing best score\n",
    "print(\"Best grid search score:\"+str(rf_smote.RF_random.best_score_))\n",
    "#Printing best esitimator\n",
    "print(\"Best estimator:\"+str(rf_smote.RF_random.best_estimator_))"
   ]
  },
  {
   "cell_type": "markdown",
   "metadata": {
    "_cell_guid": "62c881a3-c315-4cd8-846e-e9c1f5044a06",
    "_uuid": "360de058-e83e-4891-8115-3dd30440f2b6"
   },
   "source": [
    "## - Random Under Sampler"
   ]
  },
  {
   "cell_type": "code",
   "execution_count": 20,
   "metadata": {
    "_cell_guid": "bde6988d-8e41-441c-9797-88226d91b868",
    "_uuid": "8999a644-64f6-4dd3-b65f-87d1c6736743"
   },
   "outputs": [
    {
     "name": "stdout",
     "output_type": "stream",
     "text": [
      "1    54\n",
      "0    54\n",
      "Name: Class, dtype: int64\n"
     ]
    },
    {
     "data": {
      "image/png": "[encoded data removed]",
      "text/plain": [
       "<Figure size 432x288 with 1 Axes>"
      ]
     },
     "metadata": {
      "needs_background": "light"
     },
     "output_type": "display_data"
    },
    {
     "name": "stdout",
     "output_type": "stream",
     "text": [
      "Test score is 0.98808\n",
      "Best parameters:{'max_depth': 10, 'min_samples_leaf': 1, 'min_samples_split': 2}\n",
      "Best grid search score:0.9072727272727275\n",
      "Best estimator:RandomForestClassifier(max_depth=10)\n"
     ]
    }
   ],
   "source": [
    "#Splitting the data\n",
    "rf_rus.split(None)\n",
    "\n",
    "#Balancing the Data USING RandomUnderSampler\n",
    "rf_rus.balancing('UnderSample')\n",
    "\n",
    "#Checking the target class \n",
    "print(rf_rus.y_train_balanced.value_counts())\n",
    "\n",
    "#Plotting the classes to check if they are balanced\n",
    "rf_rus.y_train_balanced.value_counts().plot(kind = 'bar')\n",
    "plt.ylabel('Count');\n",
    "plt.xlabel('Classes');\n",
    "plt.title('CLASSES AFTER USING RANDOM UNDER SAMPLE')\n",
    "plt.show()\n",
    "\n",
    "#Fitting the model on Random Forest\n",
    "rf_rus.fit('RF')\n",
    "\n",
    "\n",
    "#Printing the test scores\n",
    "print(\"Test score is \"+str(rf_rus.RF_random.score(rf_rus.X_test,rf_rus.y_test)))\n",
    "#Printing best parameters\n",
    "print(\"Best parameters:\"+str(rf_rus.RF_random.best_params_))\n",
    "#Printing best score\n",
    "print(\"Best grid search score:\"+str(rf_rus.RF_random.best_score_))\n",
    "#Printing best esitimator\n",
    "print(\"Best estimator:\"+str(rf_rus.RF_random.best_estimator_))"
   ]
  },
  {
   "cell_type": "markdown",
   "metadata": {
    "_cell_guid": "4446bd0d-2de6-4949-8c29-718e80f105a5",
    "_uuid": "d3e5acb2-032e-48ab-a45d-1149e3242c28"
   },
   "source": [
    "### - Combined (SMOTEEEN)"
   ]
  },
  {
   "cell_type": "code",
   "execution_count": 23,
   "metadata": {
    "_cell_guid": "97ff43c4-3f22-41b6-aed9-30e58bb08684",
    "_uuid": "dee160e2-6013-45a0-9978-2f4009b9648d"
   },
   "outputs": [
    {
     "name": "stdout",
     "output_type": "stream",
     "text": [
      "1    33153\n",
      "0    30376\n",
      "Name: Class, dtype: int64\n"
     ]
    },
    {
     "data": {
      "image/png": "[encoded data removed]",
      "text/plain": [
       "<Figure size 432x288 with 1 Axes>"
      ]
     },
     "metadata": {
      "needs_background": "light"
     },
     "output_type": "display_data"
    },
    {
     "name": "stdout",
     "output_type": "stream",
     "text": [
      "Test score is 0.99936\n",
      "Best parameters:{'max_depth': None, 'min_samples_leaf': 1, 'min_samples_split': 2}\n",
      "Best grid search score:0.9998268509770073\n",
      "Best estimator:RandomForestClassifier()\n"
     ]
    }
   ],
   "source": [
    "#Splitting the data\n",
    "rf_combined.split(None)\n",
    "\n",
    "#Balancing the Data USING SMOTEEEN\n",
    "rf_combined.balancing('Combined')\n",
    "\n",
    "#Checking the target class \n",
    "print(rf_combined.y_train_balanced.value_counts())\n",
    "\n",
    "#Plotting the classes to check if they are balanced\n",
    "rf_combined.y_train_balanced.value_counts().plot(kind = 'bar')\n",
    "plt.ylabel('Count');\n",
    "plt.xlabel('Classes');\n",
    "plt.title('CLASSES AFTER USING SMOTEEEN')\n",
    "plt.show()\n",
    "\n",
    "#Fitting the model on Random Forest\n",
    "rf_combined.fit('RF')\n",
    "\n",
    "\n",
    "#Printing the test scores\n",
    "print(\"Test score is \"+str(rf_combined.RF_random.score(rf_combined.X_test,rf_combined.y_test)))\n",
    "#Printing best parameters\n",
    "print(\"Best parameters:\"+str(rf_combined.RF_random.best_params_))\n",
    "#Printing best score\n",
    "print(\"Best grid search score:\"+str(rf_combined.RF_random.best_score_))\n",
    "#Printing best esitimator\n",
    "print(\"Best estimator:\"+str(rf_combined.RF_random.best_estimator_))"
   ]
  },
  {
   "cell_type": "markdown",
   "metadata": {
    "_cell_guid": "479ec4fe-a50d-4087-9e49-2686fcb526c1",
    "_uuid": "d7957834-527a-47f4-a430-b6413dd9a253"
   },
   "source": [
    "### Comparing Random Forest Model Scores"
   ]
  },
  {
   "cell_type": "code",
   "execution_count": 24,
   "metadata": {
    "_cell_guid": "e8f6c6b9-20a1-4738-a97d-e72963e4f367",
    "_uuid": "2270a1ab-c3ef-418c-ab42-8d83249628a2"
   },
   "outputs": [
    {
     "data": {
      "image/png": "[encoded data removed]",
      "text/plain": [
       "<Figure size 432x288 with 2 Axes>"
      ]
     },
     "metadata": {
      "needs_background": "light"
     },
     "output_type": "display_data"
    },
    {
     "name": "stdout",
     "output_type": "stream",
     "text": [
      "              precision    recall  f1-score   support\n",
      "\n",
      "           0       1.00      1.00      1.00     12475\n",
      "           1       0.87      0.80      0.83        25\n",
      "\n",
      "    accuracy                           1.00     12500\n",
      "   macro avg       0.93      0.90      0.92     12500\n",
      "weighted avg       1.00      1.00      1.00     12500\n",
      "\n"
     ]
    }
   ],
   "source": [
    "# Confusion Matrix for SMOTE\n",
    "plot_confusion_matrix(rf_smote.RF_random,rf_smote.X_test,rf_smote.y_test)\n",
    "plt.show()\n",
    "# Classification Report for SMOTE\n",
    "y_pred_rf_smote = rf_smote.RF_random.predict(rf_smote.X_test)\n",
    "print(classification_report(rf_smote.y_test, y_pred_rf_smote))"
   ]
  },
  {
   "cell_type": "markdown",
   "metadata": {},
   "source": [
    "On SMOTE our model performed really well. We got 87% precision without much compromising the recall around 86%. Here overall we got 87% for Class 1."
   ]
  },
  {
   "cell_type": "code",
   "execution_count": 25,
   "metadata": {
    "_cell_guid": "80b22b85-21bb-4a06-b696-ad7456dca5d6",
    "_uuid": "32c004e5-b6da-48ee-b3c4-d13faebac186"
   },
   "outputs": [
    {
     "data": {
      "image/png": "[encoded data removed]",
      "text/plain": [
       "<Figure size 432x288 with 2 Axes>"
      ]
     },
     "metadata": {
      "needs_background": "light"
     },
     "output_type": "display_data"
    },
    {
     "name": "stdout",
     "output_type": "stream",
     "text": [
      "              precision    recall  f1-score   support\n",
      "\n",
      "           0       1.00      0.99      0.99     12485\n",
      "           1       0.09      0.93      0.16        15\n",
      "\n",
      "    accuracy                           0.99     12500\n",
      "   macro avg       0.54      0.96      0.58     12500\n",
      "weighted avg       1.00      0.99      0.99     12500\n",
      "\n"
     ]
    }
   ],
   "source": [
    "# Confusion Matrix for RandomUnderSampler\n",
    "plot_confusion_matrix(rf_rus.RF_random,rf_rus.X_test,rf_rus.y_test)\n",
    "plt.show()\n",
    "# Classification Report for RandomUnderSampler\n",
    "y_pred_rf_rus = rf_rus.RF_random.predict(rf_rus.X_test)\n",
    "print(classification_report(rf_rus.y_test, y_pred_rf_rus))"
   ]
  },
  {
   "cell_type": "markdown",
   "metadata": {},
   "source": [
    "Our model performed the worst in Under Sampling. As we discussed, we do not have enough samples for the minority class; therefore, it was not advisable to use Under Sampling. Here we can see we got 93% as Recall but only 0.06 as Precision. Overall, we got only 11% for Class 1."
   ]
  },
  {
   "cell_type": "code",
   "execution_count": 26,
   "metadata": {
    "_cell_guid": "10a92100-1153-41aa-9396-51bdfdeaf4bc",
    "_uuid": "fc816418-2fd3-47df-8f1c-1c3efe558e72"
   },
   "outputs": [
    {
     "data": {
      "image/png": "[encoded data removed]",
      "text/plain": [
       "<Figure size 432x288 with 2 Axes>"
      ]
     },
     "metadata": {
      "needs_background": "light"
     },
     "output_type": "display_data"
    },
    {
     "name": "stdout",
     "output_type": "stream",
     "text": [
      "              precision    recall  f1-score   support\n",
      "\n",
      "           0       1.00      1.00      1.00     12476\n",
      "           1       0.83      0.83      0.83        24\n",
      "\n",
      "    accuracy                           1.00     12500\n",
      "   macro avg       0.92      0.92      0.92     12500\n",
      "weighted avg       1.00      1.00      1.00     12500\n",
      "\n"
     ]
    }
   ],
   "source": [
    "# Confusion Matrix for SMOTEEEN\n",
    "plot_confusion_matrix(rf_combined.RF_random,rf_combined.X_test,rf_combined.y_test)\n",
    "plt.show()\n",
    "# Classification Report for SMOTEEN\n",
    "y_pred_rf_combined = rf_combined.RF_random.predict(rf_combined.X_test)\n",
    "print(classification_report(rf_combined.y_test, y_pred_rf_combined))"
   ]
  },
  {
   "cell_type": "markdown",
   "metadata": {},
   "source": [
    "After checking the combined approach, we can see there is not much difference in SMOTE and SMOTEENN. Still, we are sacrificing precision by 6%. F1-score is 84%.\n",
    "\n",
    "As we can see from the above scores, we are getting the highest f1-score using SMOTE technique"
   ]
  },
  {
   "cell_type": "markdown",
   "metadata": {
    "_cell_guid": "cca99e86-ff78-44d5-a5d5-65ad91d020ff",
    "_uuid": "18c17681-2e34-4382-a7df-900ad1e66360"
   },
   "source": [
    "## Naive Bayes"
   ]
  },
  {
   "cell_type": "markdown",
   "metadata": {
    "_cell_guid": "9c56ee54-8e43-45e5-9e37-81f1f0b8ec5f",
    "_uuid": "c1d21bc3-c165-4957-bd1c-8b043d757baa"
   },
   "source": [
    "### - SMOTE"
   ]
  },
  {
   "cell_type": "code",
   "execution_count": 27,
   "metadata": {
    "_cell_guid": "7971805c-6837-49ea-8566-29cb1496368d",
    "_uuid": "00ed01da-433e-4eb2-bd04-a6931b1cf694"
   },
   "outputs": [
    {
     "name": "stdout",
     "output_type": "stream",
     "text": [
      "1    37446\n",
      "0    37446\n",
      "Name: Class, dtype: int64\n"
     ]
    },
    {
     "data": {
      "image/png": "[encoded data removed]",
      "text/plain": [
       "<Figure size 432x288 with 1 Axes>"
      ]
     },
     "metadata": {
      "needs_background": "light"
     },
     "output_type": "display_data"
    },
    {
     "name": "stdout",
     "output_type": "stream",
     "text": [
      "Test score is 0.98976\n"
     ]
    }
   ],
   "source": [
    "#Splitting the data\n",
    "gnb_smote.split(None)\n",
    "\n",
    "#Balancing the Data USING SMOTE\n",
    "gnb_smote.balancing('SMOTE')\n",
    "\n",
    "#Checking the target class \n",
    "print(gnb_smote.y_train_balanced.value_counts())\n",
    "\n",
    "#Plotting the classes to check if they are balanced\n",
    "gnb_smote.y_train_balanced.value_counts().plot(kind = 'bar')\n",
    "plt.ylabel('Count');\n",
    "plt.xlabel('Classes');\n",
    "plt.title('CLASSES AFTER USING SMOTE')\n",
    "plt.show()\n",
    "\n",
    "#Fitting the model - Naive Bayes\n",
    "gnb_smote.fit('GNB')\n",
    "\n",
    "\n",
    "#Printing the test scores\n",
    "print(\"Test score is \"+str(gnb_smote.gnb.score(gnb_smote.X_test,gnb_smote.y_test)))"
   ]
  },
  {
   "cell_type": "markdown",
   "metadata": {
    "_cell_guid": "10b9537d-3a05-4eac-8e7a-f9d78d65dd24",
    "_uuid": "8e27e5bb-5244-41b0-bd99-a40091bc80eb"
   },
   "source": [
    "### - RandomUnderSampler"
   ]
  },
  {
   "cell_type": "code",
   "execution_count": 28,
   "metadata": {
    "_cell_guid": "4f31d49c-3f72-4171-9a9e-f0f4e38b5138",
    "_uuid": "a17575c1-e2d8-4dea-9a70-dd5f10302632"
   },
   "outputs": [
    {
     "name": "stdout",
     "output_type": "stream",
     "text": [
      "1    65\n",
      "0    65\n",
      "Name: Class, dtype: int64\n"
     ]
    },
    {
     "data": {
      "image/png": "[encoded data removed]",
      "text/plain": [
       "<Figure size 432x288 with 1 Axes>"
      ]
     },
     "metadata": {
      "needs_background": "light"
     },
     "output_type": "display_data"
    },
    {
     "name": "stdout",
     "output_type": "stream",
     "text": [
      "Test score is 0.98048\n"
     ]
    }
   ],
   "source": [
    "#Splitting the data\n",
    "gnb_rus.split(None)\n",
    "\n",
    "#Balancing the Data USING RANDOM UNDER SAMPLE\n",
    "gnb_rus.balancing('UnderSample')\n",
    "\n",
    "#Checking the target class \n",
    "print(gnb_rus.y_train_balanced.value_counts())\n",
    "\n",
    "#Plotting the classes to check if they are balanced\n",
    "gnb_rus.y_train_balanced.value_counts().plot(kind = 'bar')\n",
    "plt.ylabel('Count');\n",
    "plt.xlabel('Classes');\n",
    "plt.title('CLASSES AFTER USING RANDOM UNDER SAMPLE')\n",
    "plt.show()\n",
    "\n",
    "#Fitting the model - Naive Bayes\n",
    "gnb_rus.fit('GNB')\n",
    "\n",
    "\n",
    "#Printing the test scores\n",
    "print(\"Test score is \"+str(gnb_rus.gnb.score(gnb_rus.X_test,gnb_rus.y_test)))"
   ]
  },
  {
   "cell_type": "markdown",
   "metadata": {
    "_cell_guid": "84529377-8539-4b33-9be6-9b30b33e649e",
    "_uuid": "30056a7e-2748-4128-a4b2-a82b7535cf9f"
   },
   "source": [
    "### - Combined (SMOTEEEN)"
   ]
  },
  {
   "cell_type": "code",
   "execution_count": 29,
   "metadata": {
    "_cell_guid": "f809ec2e-0e2a-4c8c-a9db-a9ffe71ae367",
    "_uuid": "34b73d99-2d25-4f9e-89a3-8996687d94a4"
   },
   "outputs": [
    {
     "name": "stdout",
     "output_type": "stream",
     "text": [
      "1    30115\n",
      "0    27107\n",
      "Name: Class, dtype: int64\n"
     ]
    },
    {
     "data": {
      "image/png": "[encoded data removed]",
      "text/plain": [
       "<Figure size 432x288 with 1 Axes>"
      ]
     },
     "metadata": {
      "needs_background": "light"
     },
     "output_type": "display_data"
    },
    {
     "name": "stdout",
     "output_type": "stream",
     "text": [
      "Test score is 0.99136\n"
     ]
    }
   ],
   "source": [
    "#Splitting the data\n",
    "gnb_combined.split(None)\n",
    "\n",
    "#Balancing the Data USING SMOTE\n",
    "gnb_combined.balancing('Combined')\n",
    "\n",
    "#Checking the target class \n",
    "print(gnb_combined.y_train_balanced.value_counts())\n",
    "\n",
    "#Plotting the classes to check if they are balanced\n",
    "gnb_combined.y_train_balanced.value_counts().plot(kind = 'bar')\n",
    "plt.ylabel('Count');\n",
    "plt.xlabel('Classes');\n",
    "plt.title('CLASSES AFTER USING COMBINED (SMOTEEN)')\n",
    "plt.show()\n",
    "\n",
    "#Fitting the model on Random Forest\n",
    "gnb_combined.fit('GNB')\n",
    "\n",
    "\n",
    "#Printing the test scores\n",
    "print(\"Test score is \"+str(gnb_combined.gnb.score(gnb_combined.X_test,gnb_combined.y_test)))"
   ]
  },
  {
   "cell_type": "markdown",
   "metadata": {
    "_cell_guid": "9c10d630-b7a1-4c8a-8854-5be12f5e63ea",
    "_uuid": "ceb8d8df-ef26-46e8-a97f-bca36ca46fbb"
   },
   "source": [
    "### Comparing Naiye Bayes Model Scores"
   ]
  },
  {
   "cell_type": "code",
   "execution_count": 30,
   "metadata": {
    "_cell_guid": "546facaa-2b95-4668-8b93-f1cef1c56de9",
    "_uuid": "ec518918-f8db-4f2c-a171-c420ff07649c"
   },
   "outputs": [
    {
     "data": {
      "image/png": "[encoded data removed]",
      "text/plain": [
       "<Figure size 432x288 with 2 Axes>"
      ]
     },
     "metadata": {
      "needs_background": "light"
     },
     "output_type": "display_data"
    },
    {
     "name": "stdout",
     "output_type": "stream",
     "text": [
      "              precision    recall  f1-score   support\n",
      "\n",
      "           0       1.00      0.99      0.99     12487\n",
      "           1       0.07      0.69      0.12        13\n",
      "\n",
      "    accuracy                           0.99     12500\n",
      "   macro avg       0.53      0.84      0.56     12500\n",
      "weighted avg       1.00      0.99      0.99     12500\n",
      "\n"
     ]
    }
   ],
   "source": [
    "# Confusion Matrix for Naive Bayes - SMOTE\n",
    "plot_confusion_matrix(gnb_smote.gnb,gnb_smote.X_test,gnb_smote.y_test)\n",
    "plt.show()\n",
    "# Classification Report for Naive Bayes - SMOTE\n",
    "y_pred_gnb_smote = gnb_smote.gnb.predict(gnb_smote.X_test)\n",
    "print(classification_report(gnb_smote.y_test, y_pred_gnb_smote))"
   ]
  },
  {
   "cell_type": "code",
   "execution_count": 31,
   "metadata": {
    "_cell_guid": "a800458d-2020-45f3-bef3-d2fa2bb8cf1f",
    "_uuid": "9956552a-277d-4537-b764-27499ec233ae"
   },
   "outputs": [
    {
     "data": {
      "image/png": "[encoded data removed]",
      "text/plain": [
       "<Figure size 432x288 with 2 Axes>"
      ]
     },
     "metadata": {
      "needs_background": "light"
     },
     "output_type": "display_data"
    },
    {
     "name": "stdout",
     "output_type": "stream",
     "text": [
      "              precision    recall  f1-score   support\n",
      "\n",
      "           0       1.00      0.98      0.99     12482\n",
      "           1       0.05      0.67      0.09        18\n",
      "\n",
      "    accuracy                           0.98     12500\n",
      "   macro avg       0.52      0.82      0.54     12500\n",
      "weighted avg       1.00      0.98      0.99     12500\n",
      "\n"
     ]
    }
   ],
   "source": [
    "# Confusion Matrix for Naive Bayes - RandomUnderSampler\n",
    "plot_confusion_matrix(gnb_rus.gnb,gnb_rus.X_test,gnb_rus.y_test)\n",
    "plt.show()\n",
    "# Classification Report forNaive Bayes -RandomUnderSampler\n",
    "y_pred_gnb_rus = gnb_rus.gnb.predict(gnb_rus.X_test)\n",
    "print(classification_report(gnb_rus.y_test, y_pred_gnb_rus))"
   ]
  },
  {
   "cell_type": "code",
   "execution_count": 32,
   "metadata": {
    "_cell_guid": "462e7a77-9658-412f-aaac-fcc1e82e4974",
    "_uuid": "12be68e5-c084-4b2d-a27d-05ad407df93b"
   },
   "outputs": [
    {
     "data": {
      "image/png": "[encoded data removed]",
      "text/plain": [
       "<Figure size 432x288 with 2 Axes>"
      ]
     },
     "metadata": {
      "needs_background": "light"
     },
     "output_type": "display_data"
    },
    {
     "name": "stdout",
     "output_type": "stream",
     "text": [
      "              precision    recall  f1-score   support\n",
      "\n",
      "           0       1.00      0.99      1.00     12475\n",
      "           1       0.18      0.76      0.29        25\n",
      "\n",
      "    accuracy                           0.99     12500\n",
      "   macro avg       0.59      0.88      0.64     12500\n",
      "weighted avg       1.00      0.99      0.99     12500\n",
      "\n"
     ]
    }
   ],
   "source": [
    "# Confusion Matrix for Naive Bayes -RandomUnderSampler\n",
    "plot_confusion_matrix(gnb_combined.gnb,rf_smote.X_test,rf_smote.y_test)\n",
    "plt.show()\n",
    "# Classification Report for Naive Bayes -RandomUnderSampler\n",
    "y_pred_rf_smote = gnb_combined.gnb.predict(rf_smote.X_test)\n",
    "print(classification_report(rf_smote.y_test, y_pred_rf_smote))"
   ]
  },
  {
   "cell_type": "markdown",
   "metadata": {},
   "source": [
    "We kept this model simple without any modification to check and compare with other models we are trying to achieve. As we can see all the scores for SMOTE, RANDOMUNDERSAMPLER and SMOTEENN respectively. We got a low score in all the methods. Best f1-score we got is 34% using SMOTEENN for Class 1. This could serve as our base model.\n",
    "\n",
    "The worst score we got is using RandomUnderSampler .i.e. 0.03 for precision and  0.64 for recall. Overall (f1-score) is onl 0.06\n"
   ]
  },
  {
   "cell_type": "markdown",
   "metadata": {
    "_cell_guid": "03bdca4d-2f26-499b-a510-9f8f422ac086",
    "_uuid": "31eb4d85-eb40-405b-9f20-030d6feea73c"
   },
   "source": [
    "## SVC"
   ]
  },
  {
   "cell_type": "markdown",
   "metadata": {
    "_cell_guid": "0e9773d6-89b7-4a11-8703-39aab3237e7d",
    "_uuid": "99a08072-1405-4cc7-b54b-fe6b2dd74056"
   },
   "source": [
    "### - SMOTE"
   ]
  },
  {
   "cell_type": "code",
   "execution_count": null,
   "metadata": {
    "_cell_guid": "a87b2c63-7411-4b55-8091-e5dcb2f84a51",
    "_uuid": "210a959d-b8e6-4794-8e8a-2af0afb632a0"
   },
   "outputs": [
    {
     "name": "stdout",
     "output_type": "stream",
     "text": [
      "1    37417\n",
      "0    37417\n",
      "Name: Class, dtype: int64\n"
     ]
    },
    {
     "data": {
      "image/png": "[encoded data removed]",
      "text/plain": [
       "<Figure size 432x288 with 1 Axes>"
      ]
     },
     "metadata": {
      "needs_background": "light"
     },
     "output_type": "display_data"
    }
   ],
   "source": [
    "#Splitting the data\n",
    "svc_smote.split(None)\n",
    "\n",
    "#Balancing the Data USING SMOTE\n",
    "svc_smote.balancing('SMOTE')\n",
    "\n",
    "#Checking the target class \n",
    "print(svc_smote.y_train_balanced.value_counts())\n",
    "\n",
    "#Plotting the classes to check if they are balanced\n",
    "svc_smote.y_train_balanced.value_counts().plot(kind = 'bar')\n",
    "plt.ylabel('Count');\n",
    "plt.xlabel('Classes');\n",
    "plt.title('CLASSES AFTER USING SMOTE')\n",
    "plt.show()\n",
    "\n",
    "#Fitting the model on Random Forest\n",
    "svc_smote.fit('SVC')\n",
    "\n",
    "\n",
    "#Printing the test scores\n",
    "print(\"Test score is \"+str(svc_smote.svc_model.score(svc_smote.X_test,svc_smote.y_test)))\n",
    "#Printing best parameters\n",
    "print(\"Best parameters:\"+str(svc_smote.svc_model.best_params_))\n",
    "#Printing best score\n",
    "print(\"Best grid search score:\"+str(svc_smote.svc_model.best_score_))\n",
    "#Printing best esitimator\n",
    "print(\"Best estimator:\"+str(svc_smote.svc_model.best_estimator_))"
   ]
  },
  {
   "cell_type": "markdown",
   "metadata": {
    "_cell_guid": "5e341137-d40a-4300-ad0d-84d19799dd58",
    "_uuid": "c42369a2-2c60-4888-9797-e46951791e68"
   },
   "source": [
    "### - RandomUnderSampler"
   ]
  },
  {
   "cell_type": "code",
   "execution_count": null,
   "metadata": {
    "_cell_guid": "28e0d619-5c1c-45fa-ba0e-473e43874495",
    "_uuid": "1fd97862-cc19-4199-bb72-6c9bacaac47f"
   },
   "outputs": [],
   "source": [
    "#Splitting the data\n",
    "svc_rus.split(None)\n",
    "\n",
    "#Balancing the Data USING SMOTE\n",
    "svc_rus.balancing('UnderSample')\n",
    "\n",
    "#Checking the target class \n",
    "print(svc_rus.y_train_balanced.value_counts())\n",
    "\n",
    "#Plotting the classes to check if they are balanced\n",
    "svc_rus.y_train_balanced.value_counts().plot(kind = 'bar')\n",
    "plt.ylabel('Count');\n",
    "plt.xlabel('Classes');\n",
    "plt.title('CLASSES AFTER USING RANDOM UNDER SAMPLE')\n",
    "plt.show()\n",
    "\n",
    "#Fitting the model on SVC\n",
    "svc_rus.fit('SVC')\n",
    "\n",
    "\n",
    "#Printing the test scores\n",
    "print(\"Test score is \"+str(svc_rus.svc_model.score(svc_rus.X_test,svc_smote.y_test)))\n",
    "#Printing best parameters\n",
    "print(\"Best parameters:\"+str(svc_rus.svc_model.best_params_))\n",
    "#Printing best score\n",
    "print(\"Best grid search score:\"+str(svc_rus.svc_model.best_score_))\n",
    "#Printing best esitimator\n",
    "print(\"Best estimator:\"+str(svc_rus.svc_model.best_estimator_))"
   ]
  },
  {
   "cell_type": "markdown",
   "metadata": {
    "_cell_guid": "02676488-cd07-4d24-b6f3-fcde36fee565",
    "_uuid": "e56194e8-ca99-4dac-8c25-aa9eed3423e6"
   },
   "source": [
    "### - Combined (SMOTEEEN)"
   ]
  },
  {
   "cell_type": "code",
   "execution_count": null,
   "metadata": {
    "_cell_guid": "85858232-6767-4c72-816b-69601cd8fc6f",
    "_uuid": "5965ccb2-fa85-4c78-86e2-e0d6fe45d5cb"
   },
   "outputs": [],
   "source": [
    "#Splitting the data\n",
    "svc_combined.split(None)\n",
    "\n",
    "#Balancing the Data USING SMOTE\n",
    "svc_combined.balancing('Combined')\n",
    "\n",
    "#Checking the target class \n",
    "print(svc_combined.y_train_balanced.value_counts())\n",
    "\n",
    "#Plotting the classes to check if they are balanced\n",
    "svc_combined.y_train_balanced.value_counts().plot(kind = 'bar')\n",
    "plt.ylabel('Count');\n",
    "plt.xlabel('Classes');\n",
    "plt.title('CLASSES AFTER USING SMOTEEEN')\n",
    "plt.show()\n",
    "\n",
    "#Fitting the model on SVC\n",
    "svc_combined.fit('SVC')\n",
    "\n",
    "\n",
    "#Printing the test scores\n",
    "print(\"Test score is \"+str(svc_combined.svc_model.score(svc_combined.X_test,svc_combined.y_test)))\n",
    "#Printing best parameters\n",
    "print(\"Best parameters:\"+str(svc_combined.svc_model.best_params_))\n",
    "#Printing best score\n",
    "print(\"Best grid search score:\"+str(svc_combined.svc_model.best_score_))\n",
    "#Printing best esitimator\n",
    "print(\"Best estimator:\"+str(svc_combined.svc_model.best_estimator_))"
   ]
  },
  {
   "cell_type": "markdown",
   "metadata": {
    "_cell_guid": "c155855f-e4ca-49fa-b530-9a23cf6cf989",
    "_uuid": "ee3fb70b-ca0c-43c3-b7ea-a98885b118d1"
   },
   "source": [
    "### Comparing Linear SVC Model Scores"
   ]
  },
  {
   "cell_type": "code",
   "execution_count": null,
   "metadata": {
    "_cell_guid": "c66f5a9e-4fc4-4ba3-9df0-37ce492d30e0",
    "_uuid": "cb7f3c80-3c36-4e3e-b37a-decf582ce6d7"
   },
   "outputs": [],
   "source": [
    "# Confusion Matrix for Linear SVC - SMOTE\n",
    "plot_confusion_matrix(svc_smote.svc_model,svc_smote.X_test,svc_smote.y_test)\n",
    "plt.show()\n",
    "# Classification Report for Linear SVC - SMOTE\n",
    "y_pred_svc_smote = svc_smote.svc_model.predict(svc_smote.X_test)\n",
    "print(classification_report(svc_smote.y_test, y_pred_svc_smote))"
   ]
  },
  {
   "cell_type": "code",
   "execution_count": null,
   "metadata": {
    "_cell_guid": "71d477d8-c7f3-4f5e-998b-4f07b3e6b53b",
    "_uuid": "e75ea251-2368-4ffc-b9dc-186efd1f084a"
   },
   "outputs": [],
   "source": [
    "# Confusion Matrix for Linear SVC - RandomUnderSample\n",
    "plot_confusion_matrix(svc_rus.svc_model,svc_rus.X_test,svc_rus.y_test)\n",
    "plt.show()\n",
    "# Classification Report for Linear SVC - RandomUnderSample\n",
    "y_pred_svc_rus = svc_rus.svc_model.predict(svc_rus.X_test)\n",
    "print(classification_report(svc_rus.y_test, y_pred_svc_rus))"
   ]
  },
  {
   "cell_type": "code",
   "execution_count": null,
   "metadata": {
    "_cell_guid": "2d133e3c-03c1-48f0-9d68-c4ce4580272e",
    "_uuid": "709c667e-125f-4dbd-88af-663e567fdc19"
   },
   "outputs": [],
   "source": [
    "# Confusion Matrix for Linear SVC - SMOTEEEN\n",
    "plot_confusion_matrix(svc_combined.svc_model,svc_combined.X_test,svc_combined.y_test)\n",
    "plt.show()\n",
    "# Classification Report for Linear SVC - SMOTEEEN\n",
    "y_pred_svc_combined = svc_combined.svc_model.predict(svc_combined.X_test)\n",
    "print(classification_report(svc_combined.y_test, y_pred_svc_combined))"
   ]
  },
  {
   "cell_type": "markdown",
   "metadata": {},
   "source": [
    "# Discussion"
   ]
  },
  {
   "cell_type": "markdown",
   "metadata": {},
   "source": [
    "##### Globally, credit and debit card fraud transaction leads in losses amounting $21.54 billion (Nilson Report, October 2016), which is roughly increasing 6% every year. Credit card fraud is one of the main concerns of the users. The main hindrance in modelling fraud detection system is there are only 1% fraud transactions of all the transactions and identifying them in real-time is also a task as false positive can create an unpleasant experience for the customers. \n",
    "##### We saw above how to solve the imbalance of the data and find which model suits our dataset. It depends on our dataset that which technique to use. Comparing it to our benchmark, we got comparable results; however, we got the best results in SMOTE taking f1-score into consideration compared to others. \n",
    "##### Our results were comparable with the benchmark we set earlier. We can further train the data on more parameters given the time and resources.  As we got the best result through Random Forest, it can be saved using Pickle library and can be tested in the real world. \n",
    "##### Solving Credit Card Fraud detection was our main concern and drive of this project; considering all this Machine Learning and AI comes in. After creating a model, we can deploy it in the real world. This would help the business as well the customers to stop the fraudulent transactions in real-time. Which in turn reduce the insurance and company losses faced each year.\n"
   ]
  },
  {
   "cell_type": "markdown",
   "metadata": {},
   "source": [
    "# Consclusion\n"
   ]
  },
  {
   "cell_type": "markdown",
   "metadata": {},
   "source": [
    "##### Working with imbalanced data could be really challenging if not deal properly. It can hinder model predictivity; moreover, it could also be deceptive in terms of accuracy. In imbalanced data, Classification Report plays a vital role. Therefore, one must check Precision, Recall and F1- score before moving forward with there findings. \n",
    "##### We also saw precision and recall trad-off is inevitable and could be crucial according to the dataset and business goal. RandomUnderSampler was the worst techniques for our dataset and it is not recommended to use Under Sampling if the number of samples in the minority class is not enough. The best techniques we found was Over Sample for this dataset. Still, SMOTEENN was also comparable and could be tried with more data. Lastly, we saw that according to our dataset, SMOTE, RandomUnderSampler or SMOTEENN methods could be used for balancing the data. \n"
   ]
  }
 ],
 "metadata": {
  "kernelspec": {
   "display_name": "Python 3",
   "language": "python",
   "name": "python3"
  },
  "language_info": {
   "codemirror_mode": {
    "name": "ipython",
    "version": 3
   },
   "file_extension": ".py",
   "mimetype": "text/x-python",
   "name": "python",
   "nbconvert_exporter": "python",
   "pygments_lexer": "ipython3",
   "version": "3.7.9"
  }
 },
 "nbformat": 4,
 "nbformat_minor": 4
}
